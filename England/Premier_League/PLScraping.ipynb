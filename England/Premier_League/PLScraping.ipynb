{
  "nbformat": 4,
  "nbformat_minor": 0,
  "metadata": {
    "colab": {
      "provenance": [],
      "authorship_tag": "ABX9TyNBeDOLj1sjSDFeJe6IjlkS",
      "include_colab_link": true
    },
    "kernelspec": {
      "name": "python3",
      "display_name": "Python 3"
    },
    "language_info": {
      "name": "python"
    }
  },
  "cells": [
    {
      "cell_type": "markdown",
      "metadata": {
        "id": "view-in-github",
        "colab_type": "text"
      },
      "source": [
        "<a href=\"https://colab.research.google.com/github/shouvikguha/Division-Diviner/blob/main/England/Premier_League/PLScraping.ipynb\" target=\"_parent\"><img src=\"https://colab.research.google.com/assets/colab-badge.svg\" alt=\"Open In Colab\"/></a>"
      ]
    },
    {
      "cell_type": "code",
      "execution_count": 5,
      "metadata": {
        "id": "vukZlBHqwl7m"
      },
      "outputs": [],
      "source": [
        "import requests ## helps make HTTP requests\n",
        "from bs4 import BeautifulSoup ## helps with parsing HTML"
      ]
    },
    {
      "cell_type": "code",
      "source": [
        "pl_standings_links = \"https://fbref.com/en/comps/9/Premier-League-Stats\""
      ],
      "metadata": {
        "id": "wQ34Ld_qGZIj"
      },
      "execution_count": 6,
      "outputs": []
    },
    {
      "cell_type": "code",
      "source": [
        "pl_standings_data = requests.get(pl_standings_links) ## using requests to get data from the url"
      ],
      "metadata": {
        "id": "7WqK4l6tGpyd"
      },
      "execution_count": 9,
      "outputs": []
    },
    {
      "cell_type": "code",
      "source": [
        "pl_data = BeautifulSoup(pl_standings_data.text)\n",
        "pl_table = pl_data.select(\"table.stats_table\")[0] ## CSS selector which gets table elements with class name stats_table"
      ],
      "metadata": {
        "id": "wnUOlJvTGzaG"
      },
      "execution_count": 17,
      "outputs": []
    },
    {
      "cell_type": "code",
      "source": [
        "urls = pl_table.find_all(\"a\") ## finds by HTML tags, in this case anchor tags\n",
        "urls = [u.get(\"href\") for u in urls if u.get(\"href\") and \"/squads\" in u.get(\"href\")] ## extract href prop from every anchor tag in list that contains string squads\n",
        "## conditional set up this way to prevent TypeError in case comparison between string and None made\n",
        "urls = [f\"https://fbref.com{u}\" for u in urls]\n",
        "urls"
      ],
      "metadata": {
        "colab": {
          "base_uri": "https://localhost:8080/"
        },
        "id": "azlvpD2-Jczm",
        "outputId": "7bcf9c5b-9ed4-4958-b27c-4c9ee0d897d0"
      },
      "execution_count": 25,
      "outputs": [
        {
          "output_type": "execute_result",
          "data": {
            "text/plain": [
              "['https://fbref.com/en/squads/18bb7c10/Arsenal-Stats',\n",
              " 'https://fbref.com/en/squads/8602292d/Aston-Villa-Stats',\n",
              " 'https://fbref.com/en/squads/4ba7cbea/Bournemouth-Stats',\n",
              " 'https://fbref.com/en/squads/cd051869/Brentford-Stats',\n",
              " 'https://fbref.com/en/squads/d07537b9/Brighton-and-Hove-Albion-Stats',\n",
              " 'https://fbref.com/en/squads/cff3d9bb/Chelsea-Stats',\n",
              " 'https://fbref.com/en/squads/47c64c55/Crystal-Palace-Stats',\n",
              " 'https://fbref.com/en/squads/d3fd31cc/Everton-Stats',\n",
              " 'https://fbref.com/en/squads/fd962109/Fulham-Stats',\n",
              " 'https://fbref.com/en/squads/b74092de/Ipswich-Town-Stats',\n",
              " 'https://fbref.com/en/squads/a2d435b3/Leicester-City-Stats',\n",
              " 'https://fbref.com/en/squads/822bd0ba/Liverpool-Stats',\n",
              " 'https://fbref.com/en/squads/b8fd03ef/Manchester-City-Stats',\n",
              " 'https://fbref.com/en/squads/19538871/Manchester-United-Stats',\n",
              " 'https://fbref.com/en/squads/b2b47a98/Newcastle-United-Stats',\n",
              " 'https://fbref.com/en/squads/e4a775cb/Nottingham-Forest-Stats',\n",
              " 'https://fbref.com/en/squads/33c895d4/Southampton-Stats',\n",
              " 'https://fbref.com/en/squads/361ca564/Tottenham-Hotspur-Stats',\n",
              " 'https://fbref.com/en/squads/7c21e445/West-Ham-United-Stats',\n",
              " 'https://fbref.com/en/squads/8cec06e1/Wolverhampton-Wanderers-Stats']"
            ]
          },
          "metadata": {},
          "execution_count": 25
        }
      ]
    },
    {
      "cell_type": "code",
      "source": [
        "urls = pl_table.find_all(\"a\") ## finds by HTML tags, in this case anchor tags\n",
        "urls = [u.get(\"href\") for u in urls if u.get(\"href\") and \"/squads\" in u.get(\"href\")] ## extract href prop from every anchor tag in list that contains string squads\n",
        "## conditional set up this way to prevent TypeError in case comparison between string and None made\n",
        "urls = [f\"https://fbref.com{u}\" for u in urls]\n",
        "urls"
      ],
      "metadata": {
        "id": "ch6WZDWxOxEg"
      },
      "execution_count": null,
      "outputs": []
    }
  ]
}